{
 "cells": [
  {
   "cell_type": "code",
   "execution_count": 50,
   "id": "0860d533",
   "metadata": {},
   "outputs": [],
   "source": [
    "#import necessary libraries\n",
    "from bs4 import BeautifulSoup\n",
    "import requests\n",
    "import time\n",
    "import datetime\n",
    "import csv\n",
    "import pandas as pd"
   ]
  },
  {
   "cell_type": "code",
   "execution_count": 40,
   "id": "9b6d0a10",
   "metadata": {},
   "outputs": [],
   "source": [
    "# Connect the the URl, Get specified information and clean up data\n",
    "\n",
    "URL = 'https://cellphones.com.vn/mobile/apple.html'\n",
    "\n",
    "headers = {\"User-Agent\": \"Mozilla/5.0 (Windows NT 10.0; Win64; x64) AppleWebKit/537.36 (KHTML, like Gecko) Chrome/78.0.3904.108 Safari/537.36\", \"Accept-Encoding\":\"gzip, deflate\", \"Accept\":\"text/html,application/xhtml+xml,application/xml;q=0.9,*/*;q=0.8\", \"DNT\":\"1\",\"Connection\":\"close\", \"Upgrade-Insecure-Requests\":\"1\"}\n",
    "\n",
    "page = requests.get(URL, headers=headers)\n",
    "\n",
    "soup1 = BeautifulSoup(page.content, \"html.parser\")\n",
    "\n",
    "soup2 = BeautifulSoup(soup1.prettify(), \"html.parser\")\n",
    "\n",
    "product_name=soup2.find_all('div', class_=\"product__name\")\n",
    "\n",
    "product_price=soup2.find_all('p',class_=\"product__price--show\")\n",
    "\n",
    "# Append each elements from product_name and product_price to lists\n",
    "\n",
    "name_list=[x.h3.text.strip() for x in product_name]\n",
    "\n",
    "price_list=[x.text.strip()[:-2] for x in product_price]\n"
   ]
  },
  {
   "cell_type": "code",
   "execution_count": 45,
   "id": "c01df09c",
   "metadata": {},
   "outputs": [
    {
     "name": "stdout",
     "output_type": "stream",
     "text": [
      "2022-10-25\n"
     ]
    }
   ],
   "source": [
    "# Create a Timestamp for your output to track when data are scraping\n",
    "import datetime\n",
    "\n",
    "today = datetime.date.today()\n",
    "\n",
    "print(today)"
   ]
  },
  {
   "cell_type": "code",
   "execution_count": 66,
   "id": "cf86fc89",
   "metadata": {},
   "outputs": [],
   "source": [
    "# Create CSV and write headers and data into the file\n",
    "with open('IphonePriceOfCellphones.csv', 'w', newline='', encoding='ANSI') as f:\n",
    "    writer = csv.writer(f)\n",
    "    writer.writerow(['Iphone','Price','Today'])\n",
    "    for i in range(20):\n",
    "        writer.writerow([name_list[i],price_list[i],today])"
   ]
  },
  {
   "cell_type": "code",
   "execution_count": 68,
   "id": "def30e64",
   "metadata": {},
   "outputs": [
    {
     "name": "stdout",
     "output_type": "stream",
     "text": [
      "                                       Iphone       Price       Today\n",
      "0   iPhone 14 Pro Max 128GB | Chính hãng VN/A  33.990.000  2022-10-25\n",
      "1            iPhone 11 64GB I Chính hãng VN/A  11.290.000  2022-10-25\n",
      "2   iPhone 13 Pro Max 128GB | Chính hãng VN/A  27.990.000  2022-10-25\n",
      "3          iPhone 14 128GB  | Chính hãng VN/A  21.990.000  2022-10-25\n",
      "4   iPhone 12 Pro Max 128GB I Chính hãng VN/A  25.590.000  2022-10-25\n",
      "5       iPhone 14 Pro 256GB | Chính hãng VN/A  31.990.000  2022-10-25\n",
      "6           iPhone 13 128GB | Chính hãng VN/A  19.590.000  2022-10-25\n",
      "7       iPhone 14 Pro 128GB | Chính hãng VN/A  30.990.000  2022-10-25\n",
      "8      iPhone 14 Plus 128GB | Chính hãng VN/A  24.990.000  2022-10-25\n",
      "9            iPhone 12 64GB I Chính hãng VN/A  16.390.000  2022-10-25\n",
      "10      iPhone 13 Pro 128GB | Chính hãng VN/A  25.990.000  2022-10-25\n",
      "11          iPhone 11 128GB I Chính hãng VN/A  13.190.000  2022-10-25\n",
      "12  iPhone 14 Pro Max 512GB | Chính hãng VN/A  43.990.000  2022-10-25\n",
      "13  iPhone 13 Pro Max 256GB I Chính hãng VN/A  30.590.000  2022-10-25\n",
      "14    iPhone 14 Pro Max 1TB | Chính hãng VN/A  48.990.000  2022-10-25\n",
      "15           iPhone SE 2022 | Chính hãng VN/A  10.390.000  2022-10-25\n",
      "16      iPhone 12 mini 64GB I Chính hãng VN/A  15.000.000  2022-10-25\n",
      "17  iPhone 13 Pro Max 512GB I Chính hãng VN/A  34.990.000  2022-10-25\n",
      "18          iPhone 14 512GB | Chính hãng VN/A  28.990.000  2022-10-25\n",
      "19     iPhone 13 mini 128GB | Chính hãng VN/A  17.490.000  2022-10-25\n"
     ]
    }
   ],
   "source": [
    "df = pd.read_csv('IphonePriceOfCellphones.csv',encoding='ANSI')\n",
    "\n",
    "print(df)"
   ]
  },
  {
   "cell_type": "code",
   "execution_count": 70,
   "id": "fb85b238",
   "metadata": {},
   "outputs": [],
   "source": [
    "# Put it all into one function:\n",
    "def price_index():\n",
    "    \n",
    "    URL = 'https://cellphones.com.vn/mobile/apple.html'\n",
    "\n",
    "    headers = {\"User-Agent\": \"Mozilla/5.0 (Windows NT 10.0; Win64; x64) AppleWebKit/537.36 (KHTML, like Gecko) Chrome/78.0.3904.108 Safari/537.36\", \"Accept-Encoding\":\"gzip, deflate\", \"Accept\":\"text/html,application/xhtml+xml,application/xml;q=0.9,*/*;q=0.8\", \"DNT\":\"1\",\"Connection\":\"close\", \"Upgrade-Insecure-Requests\":\"1\"}\n",
    "\n",
    "    page = requests.get(URL, headers=headers)\n",
    "\n",
    "    soup1 = BeautifulSoup(page.content, \"html.parser\")\n",
    "\n",
    "    soup2 = BeautifulSoup(soup1.prettify(), \"html.parser\")\n",
    "\n",
    "    product_name=soup2.find_all('div', class_=\"product__name\")\n",
    "\n",
    "    product_price=soup2.find_all('p',class_=\"product__price--show\")\n",
    "\n",
    "    name_list=[x.h3.text.strip() for x in product_name]\n",
    "\n",
    "    price_list=[x.text.strip()[:-2] for x in product_price]\n",
    "    \n",
    "    import datetime\n",
    "\n",
    "    today = datetime.date.today()\n",
    "    \n",
    "    import csv\n",
    "    \n",
    "    with open('IphonePriceOfCellphones.csv', 'a+', newline='', encoding='ANSI') as f:\n",
    "        writer = csv.writer(f)\n",
    "        for i in range(20):\n",
    "            writer.writerow([name_list[i],price_list[i],today])\n"
   ]
  },
  {
   "cell_type": "code",
   "execution_count": 72,
   "id": "8d3f8b36",
   "metadata": {},
   "outputs": [
    {
     "ename": "KeyboardInterrupt",
     "evalue": "",
     "output_type": "error",
     "traceback": [
      "\u001b[1;31m---------------------------------------------------------------------------\u001b[0m",
      "\u001b[1;31mKeyboardInterrupt\u001b[0m                         Traceback (most recent call last)",
      "Input \u001b[1;32mIn [72]\u001b[0m, in \u001b[0;36m<cell line: 2>\u001b[1;34m()\u001b[0m\n\u001b[0;32m      1\u001b[0m \u001b[38;5;28;01mwhile\u001b[39;00m (\u001b[38;5;28;01mTrue\u001b[39;00m):\n\u001b[0;32m      2\u001b[0m     price_index()\n\u001b[1;32m----> 3\u001b[0m     \u001b[43mtime\u001b[49m\u001b[38;5;241;43m.\u001b[39;49m\u001b[43msleep\u001b[49m\u001b[43m(\u001b[49m\u001b[38;5;241;43m10\u001b[39;49m\u001b[43m)\u001b[49m\n",
      "\u001b[1;31mKeyboardInterrupt\u001b[0m: "
     ]
    }
   ],
   "source": [
    "while (True):\n",
    "    price_index()\n",
    "    time.sleep(10)"
   ]
  },
  {
   "cell_type": "code",
   "execution_count": 73,
   "id": "b7c9a898",
   "metadata": {},
   "outputs": [
    {
     "name": "stdout",
     "output_type": "stream",
     "text": [
      "                                        Iphone       Price       Today\n",
      "0    iPhone 14 Pro Max 128GB | Chính hãng VN/A  33.990.000  2022-10-25\n",
      "1             iPhone 11 64GB I Chính hãng VN/A  11.290.000  2022-10-25\n",
      "2    iPhone 13 Pro Max 128GB | Chính hãng VN/A  27.990.000  2022-10-25\n",
      "3           iPhone 14 128GB  | Chính hãng VN/A  21.990.000  2022-10-25\n",
      "4    iPhone 12 Pro Max 128GB I Chính hãng VN/A  25.590.000  2022-10-25\n",
      "..                                         ...         ...         ...\n",
      "115           iPhone SE 2022 | Chính hãng VN/A  10.390.000  2022-10-25\n",
      "116      iPhone 12 mini 64GB I Chính hãng VN/A  15.000.000  2022-10-25\n",
      "117  iPhone 13 Pro Max 512GB I Chính hãng VN/A  34.990.000  2022-10-25\n",
      "118          iPhone 14 512GB | Chính hãng VN/A  28.990.000  2022-10-25\n",
      "119     iPhone 13 mini 128GB | Chính hãng VN/A  17.490.000  2022-10-25\n",
      "\n",
      "[120 rows x 3 columns]\n"
     ]
    }
   ],
   "source": [
    "df = pd.read_csv('IphonePriceOfCellphones.csv',encoding='ANSI')\n",
    "\n",
    "print(df)"
   ]
  },
  {
   "cell_type": "code",
   "execution_count": null,
   "id": "0312fcbf",
   "metadata": {},
   "outputs": [],
   "source": []
  }
 ],
 "metadata": {
  "kernelspec": {
   "display_name": "Python 3 (ipykernel)",
   "language": "python",
   "name": "python3"
  },
  "language_info": {
   "codemirror_mode": {
    "name": "ipython",
    "version": 3
   },
   "file_extension": ".py",
   "mimetype": "text/x-python",
   "name": "python",
   "nbconvert_exporter": "python",
   "pygments_lexer": "ipython3",
   "version": "3.9.12"
  }
 },
 "nbformat": 4,
 "nbformat_minor": 5
}
